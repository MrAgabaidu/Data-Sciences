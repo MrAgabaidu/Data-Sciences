{
  "nbformat": 4,
  "nbformat_minor": 0,
  "metadata": {
    "colab": {
      "provenance": [],
      "authorship_tag": "ABX9TyPP93wagxBv2MLGGTHr2+gl",
      "include_colab_link": true
    },
    "kernelspec": {
      "name": "python3",
      "display_name": "Python 3"
    },
    "language_info": {
      "name": "python"
    }
  },
  "cells": [
    {
      "cell_type": "markdown",
      "metadata": {
        "id": "view-in-github",
        "colab_type": "text"
      },
      "source": [
        "<a href=\"https://colab.research.google.com/github/MrAgabaidu/Data-Sciences/blob/main/Neural%20Networks%20and%20Deep%20Learning.ipynb\" target=\"_parent\"><img src=\"https://colab.research.google.com/assets/colab-badge.svg\" alt=\"Open In Colab\"/></a>"
      ]
    },
    {
      "cell_type": "markdown",
      "source": [
        "## **DEEP LEARNING/NUERAL NETWORK**"
      ],
      "metadata": {
        "id": "MctSPEDlVYIx"
      }
    },
    {
      "cell_type": "markdown",
      "source": [
        "In this notebook i use the famous tensor flow library for nueral network precisely image classification"
      ],
      "metadata": {
        "id": "NkTxTAXDVvMW"
      }
    },
    {
      "cell_type": "markdown",
      "source": [
        "## **Tensorflow Basics**"
      ],
      "metadata": {
        "id": "i9KoqKLmym9B"
      }
    },
    {
      "cell_type": "markdown",
      "source": [
        "## *In this part of the notebook i will be working with the basics of tensor flow using the new eager execution*"
      ],
      "metadata": {
        "id": "s0PDen0UzFQy"
      }
    },
    {
      "cell_type": "code",
      "source": [
        "import tensorflow as tf"
      ],
      "metadata": {
        "id": "5rMpTK9PV9Zr"
      },
      "execution_count": 1,
      "outputs": []
    },
    {
      "cell_type": "code",
      "source": [
        "hello=tf.constant('Hello world')"
      ],
      "metadata": {
        "id": "3Jr4PcB5WCNp"
      },
      "execution_count": 3,
      "outputs": []
    },
    {
      "cell_type": "code",
      "source": [
        "type(hello)"
      ],
      "metadata": {
        "colab": {
          "base_uri": "https://localhost:8080/"
        },
        "id": "3EJz_B4ffvCW",
        "outputId": "9b5a497b-478b-41b7-fbf4-3f6c820a0489"
      },
      "execution_count": 4,
      "outputs": [
        {
          "output_type": "execute_result",
          "data": {
            "text/plain": [
              "tensorflow.python.framework.ops.EagerTensor"
            ]
          },
          "metadata": {},
          "execution_count": 4
        }
      ]
    },
    {
      "cell_type": "code",
      "source": [
        "f=tf.constant(100)"
      ],
      "metadata": {
        "id": "Yv37ezJIoEji"
      },
      "execution_count": 9,
      "outputs": []
    },
    {
      "cell_type": "code",
      "source": [],
      "metadata": {
        "id": "Rx4Xr4PsoSsP"
      },
      "execution_count": null,
      "outputs": []
    },
    {
      "cell_type": "code",
      "source": [
        "type(f)"
      ],
      "metadata": {
        "colab": {
          "base_uri": "https://localhost:8080/"
        },
        "id": "xcUcGriuoHdo",
        "outputId": "cbee156b-6e6d-48d3-d18a-db823c55b7e1"
      },
      "execution_count": 7,
      "outputs": [
        {
          "output_type": "execute_result",
          "data": {
            "text/plain": [
              "tensorflow.python.framework.ops.EagerTensor"
            ]
          },
          "metadata": {},
          "execution_count": 7
        }
      ]
    },
    {
      "cell_type": "code",
      "source": [
        "#sess = tf.Session()"
      ],
      "metadata": {
        "id": "kWkSBxwKoK6q"
      },
      "execution_count": 11,
      "outputs": []
    },
    {
      "cell_type": "code",
      "source": [
        "hello.numpy()"
      ],
      "metadata": {
        "colab": {
          "base_uri": "https://localhost:8080/"
        },
        "id": "85qkjmTfoWrk",
        "outputId": "f441cb8b-3633-4daf-b0ba-ac998c5d43b8"
      },
      "execution_count": 12,
      "outputs": [
        {
          "output_type": "execute_result",
          "data": {
            "text/plain": [
              "b'Hello world'"
            ]
          },
          "metadata": {},
          "execution_count": 12
        }
      ]
    },
    {
      "cell_type": "code",
      "source": [
        "type(f.numpy())"
      ],
      "metadata": {
        "colab": {
          "base_uri": "https://localhost:8080/"
        },
        "id": "8iJ_uEv6ofBo",
        "outputId": "67b60179-7762-4185-af67-53a1379834c0"
      },
      "execution_count": 15,
      "outputs": [
        {
          "output_type": "execute_result",
          "data": {
            "text/plain": [
              "numpy.int32"
            ]
          },
          "metadata": {},
          "execution_count": 15
        }
      ]
    },
    {
      "cell_type": "code",
      "source": [
        "# Operations"
      ],
      "metadata": {
        "id": "RkiFFHZcojbr"
      },
      "execution_count": 16,
      "outputs": []
    },
    {
      "cell_type": "code",
      "source": [
        "x=tf.constant(2)\n",
        "y=tf.constant(3)"
      ],
      "metadata": {
        "id": "nXxFLCTpo13S"
      },
      "execution_count": 21,
      "outputs": []
    },
    {
      "cell_type": "code",
      "source": [
        "print('addition:',(x+y).numpy())\n",
        "print('subtraction:',(x-y).numpy())\n",
        "print('multiplication:',(x*y).numpy())\n",
        "print('division:',(x/y).numpy())\n"
      ],
      "metadata": {
        "colab": {
          "base_uri": "https://localhost:8080/"
        },
        "id": "PSFoBsgvo8gR",
        "outputId": "c4f174ca-59b5-4449-eab7-02a280605a92"
      },
      "execution_count": 32,
      "outputs": [
        {
          "output_type": "stream",
          "name": "stdout",
          "text": [
            "addition: 8\n",
            "subtraction: -1\n",
            "multiplication: 6\n",
            "division: 0.6666666666666666\n"
          ]
        }
      ]
    },
    {
      "cell_type": "code",
      "source": [
        " #Placeholder"
      ],
      "metadata": {
        "id": "k2Z1djh4pEF2"
      },
      "execution_count": 23,
      "outputs": []
    },
    {
      "cell_type": "code",
      "source": [
        "x=20\n",
        "y=30\n",
        "add=tf.add(x, y)\n",
        "sub=tf.subtract(x,y)\n",
        "mul=tf.multiply(x,y)"
      ],
      "metadata": {
        "id": "kiiuMOFfplmD"
      },
      "execution_count": 35,
      "outputs": []
    },
    {
      "cell_type": "code",
      "source": [
        "print('Addition:', add.numpy())"
      ],
      "metadata": {
        "colab": {
          "base_uri": "https://localhost:8080/"
        },
        "id": "hIkA9Zl1wHvc",
        "outputId": "b7ea5b06-e13f-425d-d7a9-196482782074"
      },
      "execution_count": 36,
      "outputs": [
        {
          "output_type": "stream",
          "name": "stdout",
          "text": [
            "Addition: 50\n"
          ]
        }
      ]
    },
    {
      "cell_type": "code",
      "source": [
        "import numpy as np"
      ],
      "metadata": {
        "id": "EDPKZjSZwZMi"
      },
      "execution_count": 37,
      "outputs": []
    },
    {
      "cell_type": "code",
      "source": [
        "a = np.array([[5.0, 5.0, 5.0], [2, 2, 2],[1,1,1]])\n",
        "b = np.array([[2.0, 5, 1],[2.0, 5,1], [2,5,1]])"
      ],
      "metadata": {
        "id": "VUKO40_YwfdB"
      },
      "execution_count": 53,
      "outputs": []
    },
    {
      "cell_type": "code",
      "source": [
        "b"
      ],
      "metadata": {
        "colab": {
          "base_uri": "https://localhost:8080/"
        },
        "id": "FWqFDD6swt82",
        "outputId": "409ff158-521c-4607-e2b4-c65f8d63a2e7"
      },
      "execution_count": 54,
      "outputs": [
        {
          "output_type": "execute_result",
          "data": {
            "text/plain": [
              "array([[2., 5., 1.],\n",
              "       [2., 5., 1.],\n",
              "       [2., 5., 1.]])"
            ]
          },
          "metadata": {},
          "execution_count": 54
        }
      ]
    },
    {
      "cell_type": "code",
      "source": [
        "mat1=tf.constant(a)\n",
        "mat2=tf.constant(b)"
      ],
      "metadata": {
        "id": "n1G6EjAcwu-3"
      },
      "execution_count": 55,
      "outputs": []
    },
    {
      "cell_type": "code",
      "source": [
        "mul=tf.matmul(mat1, mat2)\n",
        "m=print('Multiplication:', mul.numpy())"
      ],
      "metadata": {
        "colab": {
          "base_uri": "https://localhost:8080/"
        },
        "id": "KC3N3L6Qw22o",
        "outputId": "3f8fdd4d-59af-480c-d4a1-22d1392431f6"
      },
      "execution_count": 56,
      "outputs": [
        {
          "output_type": "stream",
          "name": "stdout",
          "text": [
            "Multiplication: [[30. 75. 15.]\n",
            " [12. 30.  6.]\n",
            " [ 6. 15.  3.]]\n"
          ]
        }
      ]
    },
    {
      "cell_type": "code",
      "source": [],
      "metadata": {
        "id": "VVvEb5_cxC5y"
      },
      "execution_count": 47,
      "outputs": []
    },
    {
      "cell_type": "markdown",
      "source": [
        "## **MNIST Dataset**"
      ],
      "metadata": {
        "id": "sawBhNbsyd1_"
      }
    },
    {
      "cell_type": "markdown",
      "source": [
        "## *The famous MNIST dataset is a dataset of hand written digits and this part of the notebook i will perform image recognition on this dataset to recognize the number using the darkness of the image*"
      ],
      "metadata": {
        "id": "BYLu42l-zTVz"
      }
    },
    {
      "cell_type": "code",
      "source": [],
      "metadata": {
        "id": "e0iAhn6oxOiI"
      },
      "execution_count": null,
      "outputs": []
    }
  ]
}
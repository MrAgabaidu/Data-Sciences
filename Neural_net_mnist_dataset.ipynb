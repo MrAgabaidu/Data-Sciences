{
  "nbformat": 4,
  "nbformat_minor": 0,
  "metadata": {
    "colab": {
      "provenance": [],
      "authorship_tag": "ABX9TyNRSTZ5Z4mrJi6brulqWM/Z",
      "include_colab_link": true
    },
    "kernelspec": {
      "name": "python3",
      "display_name": "Python 3"
    },
    "language_info": {
      "name": "python"
    }
  },
  "cells": [
    {
      "cell_type": "markdown",
      "metadata": {
        "id": "view-in-github",
        "colab_type": "text"
      },
      "source": [
        "<a href=\"https://colab.research.google.com/github/MrAgabaidu/Data-Sciences/blob/main/Neural_net_mnist_dataset.ipynb\" target=\"_parent\"><img src=\"https://colab.research.google.com/assets/colab-badge.svg\" alt=\"Open In Colab\"/></a>"
      ]
    },
    {
      "cell_type": "code",
      "execution_count": 15,
      "metadata": {
        "id": "xJrULxT1IKRp"
      },
      "outputs": [],
      "source": [
        "from ast import increment_lineno\n",
        "import numpy as np\n",
        "import keras\n",
        "from keras import layers\n",
        "import matplotlib.pyplot as plt\n",
        "%matplotlib inline\n",
        "import seaborn as sns\n",
        "import tensorflow as tf"
      ]
    },
    {
      "cell_type": "code",
      "source": [
        "# Model / data parameters\n",
        "num_classes = 10\n",
        "input_shape = (28, 28, 1)\n",
        "\n",
        "# Load the data and split it between train and test sets\n",
        "(x_train, y_train), (x_test, y_test) = keras.datasets.mnist.load_data()\n",
        "\n",
        "# Scale images to the [0, 1] range\n",
        "x_train = x_train.astype(\"float32\") / 255\n",
        "x_test = x_test.astype(\"float32\") / 255\n",
        "# Make sure images have shape (28, 28, 1)\n",
        "x_train = np.expand_dims(x_train, -1)\n",
        "x_test = np.expand_dims(x_test, -1)\n",
        "print(\"x_train shape:\", x_train.shape)\n",
        "print(x_train.shape[0], \"train samples\")\n",
        "print(x_test.shape[0], \"test samples\")\n",
        "\n",
        "\n",
        "# convert class vectors to binary class matrices\n",
        "y_train = keras.utils.to_categorical(y_train, num_classes)\n",
        "y_test = keras.utils.to_categorical(y_test, num_classes)"
      ],
      "metadata": {
        "colab": {
          "base_uri": "https://localhost:8080/"
        },
        "id": "5_1dhilII-Oj",
        "outputId": "1c94673e-7138-46e5-d140-cf8fff1d54db"
      },
      "execution_count": 2,
      "outputs": [
        {
          "output_type": "stream",
          "name": "stdout",
          "text": [
            "Downloading data from https://storage.googleapis.com/tensorflow/tf-keras-datasets/mnist.npz\n",
            "11490434/11490434 [==============================] - 0s 0us/step\n",
            "x_train shape: (60000, 28, 28, 1)\n",
            "60000 train samples\n",
            "10000 test samples\n"
          ]
        }
      ]
    },
    {
      "cell_type": "code",
      "source": [
        "model = keras.Sequential(\n",
        "    [\n",
        "        keras.Input(shape=input_shape),\n",
        "        layers.Conv2D(32, kernel_size=(3, 3), activation=\"relu\"),\n",
        "        layers.MaxPooling2D(pool_size=(2, 2)),\n",
        "        layers.Conv2D(64, kernel_size=(3, 3), activation=\"relu\"),\n",
        "        layers.MaxPooling2D(pool_size=(2, 2)),\n",
        "        layers.Flatten(),\n",
        "        layers.Dropout(0.5),\n",
        "        layers.Dense(num_classes, activation=\"softmax\"),\n",
        "    ]\n",
        ")\n",
        "\n",
        "model.summary()"
      ],
      "metadata": {
        "colab": {
          "base_uri": "https://localhost:8080/"
        },
        "id": "XZpNK2L5JIPM",
        "outputId": "5bdd8164-910e-4eb5-b389-4353237e0194"
      },
      "execution_count": 3,
      "outputs": [
        {
          "output_type": "stream",
          "name": "stdout",
          "text": [
            "Model: \"sequential\"\n",
            "_________________________________________________________________\n",
            " Layer (type)                Output Shape              Param #   \n",
            "=================================================================\n",
            " conv2d (Conv2D)             (None, 26, 26, 32)        320       \n",
            "                                                                 \n",
            " max_pooling2d (MaxPooling2  (None, 13, 13, 32)        0         \n",
            " D)                                                              \n",
            "                                                                 \n",
            " conv2d_1 (Conv2D)           (None, 11, 11, 64)        18496     \n",
            "                                                                 \n",
            " max_pooling2d_1 (MaxPoolin  (None, 5, 5, 64)          0         \n",
            " g2D)                                                            \n",
            "                                                                 \n",
            " flatten (Flatten)           (None, 1600)              0         \n",
            "                                                                 \n",
            " dropout (Dropout)           (None, 1600)              0         \n",
            "                                                                 \n",
            " dense (Dense)               (None, 10)                16010     \n",
            "                                                                 \n",
            "=================================================================\n",
            "Total params: 34826 (136.04 KB)\n",
            "Trainable params: 34826 (136.04 KB)\n",
            "Non-trainable params: 0 (0.00 Byte)\n",
            "_________________________________________________________________\n"
          ]
        }
      ]
    },
    {
      "cell_type": "code",
      "source": [
        "batch_size = 128\n",
        "epochs = 15\n",
        "\n",
        "model.compile(loss=\"categorical_crossentropy\", optimizer=\"adam\", metrics=[\"accuracy\"])\n",
        "\n",
        "model.fit(x_train, y_train, batch_size=batch_size, epochs=epochs, validation_split=0.1)"
      ],
      "metadata": {
        "colab": {
          "base_uri": "https://localhost:8080/"
        },
        "id": "hk78LLuzJQGN",
        "outputId": "89310852-5be4-4cc8-d457-a6d868fb92a8"
      },
      "execution_count": 4,
      "outputs": [
        {
          "output_type": "stream",
          "name": "stdout",
          "text": [
            "Epoch 1/15\n",
            "422/422 [==============================] - 38s 86ms/step - loss: 0.3568 - accuracy: 0.8912 - val_loss: 0.0818 - val_accuracy: 0.9770\n",
            "Epoch 2/15\n",
            "422/422 [==============================] - 35s 84ms/step - loss: 0.1126 - accuracy: 0.9649 - val_loss: 0.0565 - val_accuracy: 0.9845\n",
            "Epoch 3/15\n",
            "422/422 [==============================] - 37s 87ms/step - loss: 0.0831 - accuracy: 0.9744 - val_loss: 0.0457 - val_accuracy: 0.9872\n",
            "Epoch 4/15\n",
            "422/422 [==============================] - 34s 81ms/step - loss: 0.0718 - accuracy: 0.9775 - val_loss: 0.0391 - val_accuracy: 0.9893\n",
            "Epoch 5/15\n",
            "422/422 [==============================] - 35s 83ms/step - loss: 0.0629 - accuracy: 0.9804 - val_loss: 0.0401 - val_accuracy: 0.9873\n",
            "Epoch 6/15\n",
            "422/422 [==============================] - 34s 80ms/step - loss: 0.0568 - accuracy: 0.9823 - val_loss: 0.0354 - val_accuracy: 0.9903\n",
            "Epoch 7/15\n",
            "422/422 [==============================] - 35s 82ms/step - loss: 0.0502 - accuracy: 0.9841 - val_loss: 0.0320 - val_accuracy: 0.9912\n",
            "Epoch 8/15\n",
            "422/422 [==============================] - 34s 79ms/step - loss: 0.0466 - accuracy: 0.9850 - val_loss: 0.0336 - val_accuracy: 0.9903\n",
            "Epoch 9/15\n",
            "422/422 [==============================] - 34s 81ms/step - loss: 0.0467 - accuracy: 0.9853 - val_loss: 0.0335 - val_accuracy: 0.9910\n",
            "Epoch 10/15\n",
            "422/422 [==============================] - 35s 82ms/step - loss: 0.0439 - accuracy: 0.9866 - val_loss: 0.0301 - val_accuracy: 0.9912\n",
            "Epoch 11/15\n",
            "422/422 [==============================] - 33s 77ms/step - loss: 0.0401 - accuracy: 0.9872 - val_loss: 0.0287 - val_accuracy: 0.9922\n",
            "Epoch 12/15\n",
            "422/422 [==============================] - 33s 79ms/step - loss: 0.0382 - accuracy: 0.9874 - val_loss: 0.0260 - val_accuracy: 0.9928\n",
            "Epoch 13/15\n",
            "422/422 [==============================] - 34s 80ms/step - loss: 0.0366 - accuracy: 0.9884 - val_loss: 0.0262 - val_accuracy: 0.9928\n",
            "Epoch 14/15\n",
            "422/422 [==============================] - 32s 77ms/step - loss: 0.0366 - accuracy: 0.9882 - val_loss: 0.0257 - val_accuracy: 0.9932\n",
            "Epoch 15/15\n",
            "422/422 [==============================] - 33s 79ms/step - loss: 0.0333 - accuracy: 0.9894 - val_loss: 0.0297 - val_accuracy: 0.9915\n"
          ]
        },
        {
          "output_type": "execute_result",
          "data": {
            "text/plain": [
              "<keras.src.callbacks.History at 0x7d5aa091ed10>"
            ]
          },
          "metadata": {},
          "execution_count": 4
        }
      ]
    },
    {
      "cell_type": "code",
      "source": [
        "score = model.evaluate(x_test, y_test, verbose=0)\n",
        "print(\"Test loss:\", score[0])\n",
        "print(\"Test accuracy:\", score[1])"
      ],
      "metadata": {
        "colab": {
          "base_uri": "https://localhost:8080/"
        },
        "id": "zgYfiPzmJWOD",
        "outputId": "4929f554-db8c-4a2d-832b-cf7a55a0fbed"
      },
      "execution_count": 5,
      "outputs": [
        {
          "output_type": "stream",
          "name": "stdout",
          "text": [
            "Test loss: 0.02389710582792759\n",
            "Test accuracy: 0.9916999936103821\n"
          ]
        }
      ]
    },
    {
      "cell_type": "code",
      "source": [
        "predictions=model.predict(x_test)"
      ],
      "metadata": {
        "colab": {
          "base_uri": "https://localhost:8080/"
        },
        "id": "VqVCxjSiMFz7",
        "outputId": "5770e912-2e06-4272-802b-abbc9476c600"
      },
      "execution_count": 7,
      "outputs": [
        {
          "output_type": "stream",
          "name": "stdout",
          "text": [
            "313/313 [==============================] - 3s 9ms/step\n"
          ]
        }
      ]
    },
    {
      "cell_type": "code",
      "source": [
        "pred=[np.argmax(x) for x in predictions]"
      ],
      "metadata": {
        "id": "LVXixnPzMQAD"
      },
      "execution_count": 10,
      "outputs": []
    },
    {
      "cell_type": "code",
      "source": [
        "y_test=[np.argmax(x) for x in y_test]"
      ],
      "metadata": {
        "id": "hlgExZvBNRa7"
      },
      "execution_count": 21,
      "outputs": []
    },
    {
      "cell_type": "code",
      "source": [
        "cm=tf.math.confusion_matrix(labels=y_test, predictions=pred)"
      ],
      "metadata": {
        "id": "jNtVT0y5M71i"
      },
      "execution_count": 22,
      "outputs": []
    },
    {
      "cell_type": "code",
      "source": [
        "plt.figure(figsize=(10,7))\n",
        "sns.heatmap(cm, annot=True, fmt='d')\n",
        "plt.xlabel('Prediction')\n",
        "plt.ylabel('Truth')"
      ],
      "metadata": {
        "colab": {
          "base_uri": "https://localhost:8080/",
          "height": 637
        },
        "id": "whANesyLMcPs",
        "outputId": "ca0be2ec-e61d-4e73-a832-667d6eab9ea6"
      },
      "execution_count": 23,
      "outputs": [
        {
          "output_type": "execute_result",
          "data": {
            "text/plain": [
              "Text(95.72222222222221, 0.5, 'Truth')"
            ]
          },
          "metadata": {},
          "execution_count": 23
        },
        {
          "output_type": "display_data",
          "data": {
            "text/plain": [
              "<Figure size 1000x700 with 2 Axes>"
            ],
            "image/png": "[encoded data removed]"
          },
          "metadata": {}
        }
      ]
    },
    {
      "cell_type": "code",
      "source": [],
      "metadata": {
        "id": "-Tn2EI-WN8pW"
      },
      "execution_count": null,
      "outputs": []
    }
  ]
}